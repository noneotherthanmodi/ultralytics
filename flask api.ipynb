{
 "cells": [
  {
   "cell_type": "code",
   "execution_count": 1,
   "id": "2a3b7e71",
   "metadata": {},
   "outputs": [
    {
     "name": "stdout",
     "output_type": "stream",
     "text": [
      "Defaulting to user installation because normal site-packages is not writeable\n",
      "Requirement already satisfied: Flask in c:\\programdata\\anaconda3\\lib\\site-packages (2.2.2)\n",
      "Requirement already satisfied: Pillow in c:\\programdata\\anaconda3\\lib\\site-packages (10.1.0)\n",
      "Requirement already satisfied: Werkzeug>=2.2.2 in c:\\programdata\\anaconda3\\lib\\site-packages (from Flask) (2.2.3)\n",
      "Requirement already satisfied: Jinja2>=3.0 in c:\\programdata\\anaconda3\\lib\\site-packages (from Flask) (3.1.2)\n",
      "Requirement already satisfied: itsdangerous>=2.0 in c:\\programdata\\anaconda3\\lib\\site-packages (from Flask) (2.0.1)\n",
      "Requirement already satisfied: click>=8.0 in c:\\programdata\\anaconda3\\lib\\site-packages (from Flask) (8.0.4)\n",
      "Requirement already satisfied: colorama in c:\\programdata\\anaconda3\\lib\\site-packages (from click>=8.0->Flask) (0.4.6)\n",
      "Requirement already satisfied: MarkupSafe>=2.0 in c:\\programdata\\anaconda3\\lib\\site-packages (from Jinja2>=3.0->Flask) (2.1.1)\n",
      "Note: you may need to restart the kernel to use updated packages.\n"
     ]
    }
   ],
   "source": [
    "pip install Flask Pillow\n"
   ]
  },
  {
   "cell_type": "code",
   "execution_count": 1,
   "id": "e9aefbf7",
   "metadata": {},
   "outputs": [],
   "source": [
    "import flask"
   ]
  },
  {
   "cell_type": "code",
   "execution_count": 2,
   "id": "929be7f5",
   "metadata": {},
   "outputs": [],
   "source": [
    "from PIL import Image"
   ]
  },
  {
   "cell_type": "code",
   "execution_count": 3,
   "id": "5033c241",
   "metadata": {},
   "outputs": [],
   "source": [
    "import torch\n",
    "from matplotlib import pyplot as plt\n",
    "import numpy as np\n",
    "import cv2"
   ]
  },
  {
   "cell_type": "code",
   "execution_count": 4,
   "id": "a3f69e99",
   "metadata": {},
   "outputs": [
    {
     "name": "stderr",
     "output_type": "stream",
     "text": [
      "Using cache found in C:\\Users\\sriva/.cache\\torch\\hub\\ultralytics_yolov5_master\n",
      "YOLOv5  2023-12-12 Python-3.11.5 torch-2.1.1+cu118 CPU\n",
      "\n",
      "Fusing layers... \n",
      "YOLOv5m summary: 290 layers, 21172173 parameters, 0 gradients, 48.9 GFLOPs\n",
      "Adding AutoShape... \n"
     ]
    }
   ],
   "source": [
    "model = torch.hub.load('ultralytics/yolov5','yolov5m')"
   ]
  },
  {
   "cell_type": "code",
   "execution_count": null,
   "id": "ffa87f3b",
   "metadata": {},
   "outputs": [
    {
     "name": "stdout",
     "output_type": "stream",
     "text": [
      " * Serving Flask app '__main__'\n",
      " * Debug mode: off\n"
     ]
    },
    {
     "name": "stderr",
     "output_type": "stream",
     "text": [
      "No traceback available to show.\n",
      "WARNING: This is a development server. Do not use it in a production deployment. Use a production WSGI server instead.\n",
      " * Running on http://127.0.0.1:5000\n",
      "Press CTRL+C to quit\n",
      "127.0.0.1 - - [12/Dec/2023 19:50:26] \"GET / HTTP/1.1\" 200 -\n",
      "127.0.0.1 - - [12/Dec/2023 19:51:20] \"POST /count HTTP/1.1\" 200 -\n",
      "127.0.0.1 - - [12/Dec/2023 19:53:37] \"POST /count HTTP/1.1\" 500 -\n",
      "127.0.0.1 - - [12/Dec/2023 19:53:49] \"POST /count HTTP/1.1\" 500 -\n",
      "127.0.0.1 - - [12/Dec/2023 19:54:38] \"POST /count HTTP/1.1\" 200 -\n"
     ]
    }
   ],
   "source": [
    "from flask import Flask, request, jsonify\n",
    "from PIL import Image\n",
    "from io import BytesIO\n",
    "\n",
    "app = Flask(__name__)\n",
    "%tb\n",
    "@app.route('/',methods=['GET'])\n",
    "def me():\n",
    "    return \"Hello\"\n",
    "\n",
    "\n",
    "@app.route('/count', methods=['POST'])\n",
    "def upload_image():\n",
    "    try:\n",
    "        # Get the image file from the POST request\n",
    "        file = request.files['image']\n",
    "\n",
    "        # Read the image file into a Pillow Image object\n",
    "        image = Image.open(BytesIO(file.read()))\n",
    "\n",
    "        # Process the image as needed (e.g., save it, perform analysis, etc.)\n",
    "        # For now, let's just save it to the server\n",
    "#         image.save('uploaded_image.jpg')\n",
    "        result = model(image)\n",
    "        # Access the prediction data\n",
    "        pred = result.xyxy[0]  # Assuming you have only one image in the batch\n",
    "        # Filter predictions for 'person' class (assuming 'person' is class 0)\n",
    "        persons = pred[pred[:, -1].int() == 0]\n",
    "        chairs = pred[pred[:, -1].int() == 56]\n",
    "        \n",
    "\n",
    "        return jsonify({'message': 'Image uploaded successfully','person count':len(persons),'chairs count':len(chairs)})\n",
    "    except Exception as e:\n",
    "        return jsonify({'error': str(e)}), 500\n",
    "\n",
    "if __name__ == '__main__':\n",
    "    app.run()\n",
    "    \n"
   ]
  },
  {
   "cell_type": "code",
   "execution_count": null,
   "id": "c1fb9c18",
   "metadata": {},
   "outputs": [],
   "source": []
  }
 ],
 "metadata": {
  "kernelspec": {
   "display_name": "Python 3 (ipykernel)",
   "language": "python",
   "name": "python3"
  },
  "language_info": {
   "codemirror_mode": {
    "name": "ipython",
    "version": 3
   },
   "file_extension": ".py",
   "mimetype": "text/x-python",
   "name": "python",
   "nbconvert_exporter": "python",
   "pygments_lexer": "ipython3",
   "version": "3.11.5"
  }
 },
 "nbformat": 4,
 "nbformat_minor": 5
}
